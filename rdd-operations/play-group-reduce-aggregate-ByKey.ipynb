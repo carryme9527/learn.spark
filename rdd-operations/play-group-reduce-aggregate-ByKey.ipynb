{
 "cells": [
  {
   "cell_type": "code",
   "execution_count": 1,
   "metadata": {
    "collapsed": false
   },
   "outputs": [],
   "source": [
    "from random import randrange"
   ]
  },
  {
   "cell_type": "code",
   "execution_count": 2,
   "metadata": {
    "collapsed": false
   },
   "outputs": [],
   "source": [
    "key = [randrange(5) for i in range(20)]\n",
    "values = [randrange(100) for i in range(20)]\n",
    "data = sc.parallelize(zip(key, values)).cache()"
   ]
  },
  {
   "cell_type": "code",
   "execution_count": 3,
   "metadata": {
    "collapsed": false
   },
   "outputs": [
    {
     "data": {
      "text/plain": [
       "[(0, [35, 43, 96]),\n",
       " (1, [46, 60, 89]),\n",
       " (2, [3, 21, 56, 71, 90]),\n",
       " (3, [7, 65, 91, 96]),\n",
       " (4, [8, 29, 39, 50, 89])]"
      ]
     },
     "execution_count": 3,
     "metadata": {},
     "output_type": "execute_result"
    }
   ],
   "source": [
    "def my_group_func(x):\n",
    "    a = list(x)\n",
    "    a.sort()\n",
    "    return a\n",
    "data.groupByKey().map(lambda x: (x[0], my_group_func(x[1]))).collect()"
   ]
  },
  {
   "cell_type": "code",
   "execution_count": 4,
   "metadata": {
    "collapsed": false
   },
   "outputs": [
    {
     "data": {
      "text/plain": [
       "[(0, [35, 43, 96]),\n",
       " (1, [46, 60, 89]),\n",
       " (2, [3, 21, 56, 71, 90]),\n",
       " (3, [7, 65, 91, 96]),\n",
       " (4, [8, 29, 39, 50, 89])]"
      ]
     },
     "execution_count": 4,
     "metadata": {},
     "output_type": "execute_result"
    }
   ],
   "source": [
    "def my_reduce_func(x,y):\n",
    "    Y = y[:] if isinstance(y, list) else [y]\n",
    "    X = x[:] if isinstance(x, list) else [x]\n",
    "    Z = X+Y\n",
    "    Z.sort()\n",
    "    return Z\n",
    "\n",
    "data.reduceByKey(my_reduce_func).collect()"
   ]
  },
  {
   "cell_type": "code",
   "execution_count": 5,
   "metadata": {
    "collapsed": false
   },
   "outputs": [
    {
     "data": {
      "text/plain": [
       "[(0, [35, 43, 96]),\n",
       " (1, [46, 60, 89]),\n",
       " (2, [3, 21, 56, 71, 90]),\n",
       " (3, [7, 65, 91, 96]),\n",
       " (4, [8, 29, 39, 50, 89])]"
      ]
     },
     "execution_count": 5,
     "metadata": {},
     "output_type": "execute_result"
    }
   ],
   "source": [
    "def my_aggregate_func(x,y):\n",
    "    Z = x+y\n",
    "    Z.sort()\n",
    "    return Z\n",
    "    \n",
    "data.aggregateByKey([], lambda x,y: x + [y], my_aggregate_func).collect()"
   ]
  }
 ],
 "metadata": {
  "kernelspec": {
   "display_name": "Python 2",
   "language": "python",
   "name": "python2"
  },
  "language_info": {
   "codemirror_mode": {
    "name": "ipython",
    "version": 2
   },
   "file_extension": ".py",
   "mimetype": "text/x-python",
   "name": "python",
   "nbconvert_exporter": "python",
   "pygments_lexer": "ipython2",
   "version": "2.7.13"
  }
 },
 "nbformat": 4,
 "nbformat_minor": 2
}
